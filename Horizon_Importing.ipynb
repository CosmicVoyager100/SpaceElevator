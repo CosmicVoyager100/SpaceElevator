{
  "nbformat": 4,
  "nbformat_minor": 0,
  "metadata": {
    "colab": {
      "provenance": [],
      "gpuType": "T4",
      "mount_file_id": "1i6QzJHpgA7tni0vCiVSZNLoV2DFTNP4J",
      "authorship_tag": "ABX9TyPAI/4HePxDzyMaq3qUgh6K",
      "include_colab_link": true
    },
    "kernelspec": {
      "name": "python3",
      "display_name": "Python 3"
    },
    "language_info": {
      "name": "python"
    },
    "accelerator": "GPU"
  },
  "cells": [
    {
      "cell_type": "markdown",
      "metadata": {
        "id": "view-in-github",
        "colab_type": "text"
      },
      "source": [
        "<a href=\"https://colab.research.google.com/github/CosmicVoyager100/SpaceElevator/blob/main/Horizon_Importing.ipynb\" target=\"_parent\"><img src=\"https://colab.research.google.com/assets/colab-badge.svg\" alt=\"Open In Colab\"/></a>"
      ]
    },
    {
      "cell_type": "code",
      "execution_count": 1,
      "metadata": {
        "colab": {
          "base_uri": "https://localhost:8080/"
        },
        "id": "bpz9GTQwNH_H",
        "outputId": "c1511ec4-4cf0-4555-be70-382ce2fdf3b8",
        "collapsed": true
      },
      "outputs": [
        {
          "output_type": "stream",
          "name": "stdout",
          "text": [
            "Dear user, welcome to the Horizon dataset where you can find the position and vectors of any known celestial body.\n",
            "To get started, please input what format you would like output to be in (json or text?): text\n",
            "Would you also like to save information to your drive?(Y/N): y\n",
            "Now lets talk about specifications for dataset you would like to retrieve.\n",
            "What is the ID of the celestial body for which you like data of?(reference: https://ssd.jpl.nasa.gov/api/horizons.api?format=text&COMMAND=MB): 893\n",
            "What is the start date you would like data for (YYYY-MM-DD): 2098-09-02\n",
            "What is the end date you would like data for (YYYY-MM-DD): 2099-09-09\n",
            "API VERSION: 1.2\n",
            "API SOURCE: NASA/JPL Horizons API\n",
            "\n",
            "*******************************************************************************\n",
            "JPL/HORIZONS              893 Leopoldina (A918 KD)         2024-Jun-11 16:01:39\n",
            "Rec #:     893 (+COV) Soln.date: 2024-Jun-03_14:26:07   # obs: 5693 (1918-2024)\n",
            " \n",
            "IAU76/J2000 helio. ecliptic osc. elements (au, days, deg., period=Julian yrs):\n",
            " \n",
            "  EPOCH=  2457501.5 ! 2016-Apr-23.00 (TDB)         Residual RMS= .2071\n",
            "   EC= .1498476703395943   QR= 2.593310837901465   TP= 2457426.6362301437\n",
            "   OM= 145.0525854142334   W=  223.1013059267224   IN= 17.01945688047772\n",
            "   A= 3.050407259293597    MA= 13.84965732371832   ADIST= 3.507503680685729\n",
            "   PER= 5.32776            N= .184998129           ANGMOM= .029704954\n",
            "   DAN= 3.34825            DDN= 2.68783            L= 6.876104\n",
            "   B= -11.5367643          MOID= 1.61582994        TP= 2016-Feb-08.1362301437\n",
            " \n",
            "Asteroid physical parameters (km, seconds, rotational period in hours):\n",
            "   GM= n.a.                RAD= 42.996             ROTPER= 14.115\n",
            "   H= 9.64                 G= .150                 B-V= .670\n",
            "                           ALBEDO= .039            STYP= XF\n",
            "\n",
            "ASTEROID comments: \n",
            "1: soln ref.= JPL#73, OCC=0\n",
            "2: source=ORB\n",
            "*******************************************************************************\n",
            "\n",
            "Mounted at /gdrive\n",
            "cp: failed to access '/content/drive/MyDrive/': Transport endpoint is not connected\n"
          ]
        }
      ],
      "source": [
        "import requests\n",
        "import os\n",
        "\n",
        "print(\"Dear user, welcome to the Horizon dataset where you can find the position and vectors of any known celestial body.\")\n",
        "\n",
        "formatInput = input(\"To get started, please input what format you would like output to be in (json or text?): \")\n",
        "driveSave = input(\"Would you also like to save information(Y/N): \")\n",
        "print(\"Now lets talk about specifications for dataset you would like to retrieve.\")\n",
        "cmdInput = input(\"What is the ID of the celestial body for which you like data of?(reference: https://ssd.jpl.nasa.gov/api/horizons.api?format=text&COMMAND=MB): \")\n",
        "startDate = input(\"What is the start date you would like data for (YYYY-MM-DD): \")\n",
        "endDate = input(\"What is the end date you would like data for (YYYY-MM-DD): \")\n",
        "\n",
        "url = f\"https://ssd.jpl.nasa.gov/api/horizons.api?format={formatInput}&COMMAND='{cmdInput}'&OBJ_DATA='YES'&MAKE_EPHEM='NO'&EPHEM_TYPE='OBSERVER'&START_TIME='{startDate}'&STOP_TIME='{endDate}'&STEP_SIZE='1%20d'\"\n",
        "\n",
        "response = requests.get(url)\n",
        "print(response.text)\n",
        "\n",
        "saveURL = f\"https://ssd.jpl.nasa.gov/api/horizons.api?format={formatInput}&COMMAND='{cmdInput}'&OBJ_DATA='YES'&MAKE_EPHEM='YES'&EPHEM_TYPE='OBSERVER'&START_TIME='{startDate}'&STOP_TIME='{endDate}'&STEP_SIZE='1%20d'\"\n",
        "\n",
        "response = requests.get(saveURL)\n",
        "\n",
        "if driveSave in ['Y','y']:\n",
        "\n",
        "  with open(f\"Ephemeris{cmdInput}.txt\", \"w\") as f:\n",
        "      f.write(response.text)\n",
        "\n",
        "\n",
        "\n"
      ]
    }
  ]
}